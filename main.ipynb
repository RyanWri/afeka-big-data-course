{
 "cells": [
  {
   "cell_type": "code",
   "execution_count": null,
   "id": "42993b2e",
   "metadata": {},
   "outputs": [],
   "source": [
    "!/home/linuxu/anaconda3/bin/pip install -r requirements.txt"
   ]
  },
  {
   "cell_type": "code",
   "execution_count": null,
   "id": "31499e9e",
   "metadata": {},
   "outputs": [],
   "source": [
    "from src.processing.entrypoint import main"
   ]
  },
  {
   "cell_type": "code",
   "execution_count": null,
   "id": "b1ae30f5",
   "metadata": {},
   "outputs": [],
   "source": [
    "main(spark, sc, sqlContext)"
   ]
  },
  {
   "cell_type": "code",
   "execution_count": 1,
   "id": "ed7b8f5e",
   "metadata": {},
   "outputs": [],
   "source": [
    "import os"
   ]
  },
  {
   "cell_type": "code",
   "execution_count": 2,
   "id": "e3fec282",
   "metadata": {},
   "outputs": [],
   "source": [
    "filenames = os.listdir(\"HR\")"
   ]
  },
  {
   "cell_type": "code",
   "execution_count": 3,
   "id": "e140f374",
   "metadata": {},
   "outputs": [
    {
     "data": {
      "text/plain": [
       "['image_1.jpg', 'image_0.jpg']"
      ]
     },
     "execution_count": 3,
     "metadata": {},
     "output_type": "execute_result"
    }
   ],
   "source": [
    "filenames"
   ]
  },
  {
   "cell_type": "code",
   "execution_count": 4,
   "id": "e7611bf6",
   "metadata": {},
   "outputs": [],
   "source": [
    "from src.notifications.comparison import main as cmain"
   ]
  },
  {
   "cell_type": "code",
   "execution_count": 5,
   "id": "bdc64bd1",
   "metadata": {},
   "outputs": [
    {
     "name": "stdout",
     "output_type": "stream",
     "text": [
      "Evaluating metrics on image: image_1.jpg\n",
      "PSNR: 28.40480152382048\n",
      "SSIM: 0.8088280784346121\n",
      "Evaluating metrics on image: image_0.jpg\n",
      "PSNR: 21.17780692518201\n",
      "SSIM: 0.714305822090397\n"
     ]
    }
   ],
   "source": [
    "for filename in filenames:\n",
    "    cmain(filename)"
   ]
  },
  {
   "cell_type": "code",
   "execution_count": null,
   "id": "1a01351c",
   "metadata": {},
   "outputs": [],
   "source": []
  }
 ],
 "metadata": {
  "kernelspec": {
   "display_name": "Python (myenv)",
   "language": "python",
   "name": "myenv"
  },
  "language_info": {
   "codemirror_mode": {
    "name": "ipython",
    "version": 3
   },
   "file_extension": ".py",
   "mimetype": "text/x-python",
   "name": "python",
   "nbconvert_exporter": "python",
   "pygments_lexer": "ipython3",
   "version": "3.9.12"
  }
 },
 "nbformat": 4,
 "nbformat_minor": 5
}
