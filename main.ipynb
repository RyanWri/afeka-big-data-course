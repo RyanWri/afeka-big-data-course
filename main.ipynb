{
 "cells": [
  {
   "cell_type": "markdown",
   "id": "fb858a18",
   "metadata": {},
   "source": [
    "# Install Required Libraries"
   ]
  },
  {
   "cell_type": "code",
   "execution_count": null,
   "id": "382ea388",
   "metadata": {},
   "outputs": [],
   "source": [
    "!/home/linuxu/anaconda3/bin/pip install -r requirements.txt"
   ]
  },
  {
   "cell_type": "markdown",
   "id": "32ebf008",
   "metadata": {},
   "source": [
    "# Imports"
   ]
  },
  {
   "cell_type": "code",
   "execution_count": null,
   "id": "e9e14779",
   "metadata": {},
   "outputs": [],
   "source": [
    "from src.ingestion.ingestion_entrypoint import run_kafka_threads\n",
    "from src.notifications.comparison import main as cmain\n",
    "from src.processing.entrypoint import main\n",
    "import os\n",
    "import time"
   ]
  },
  {
   "cell_type": "markdown",
   "id": "02c44354",
   "metadata": {},
   "source": [
    "# Run Program"
   ]
  },
  {
   "cell_type": "markdown",
   "id": "7cee4cb7",
   "metadata": {},
   "source": [
    "## Ingestion Cluster"
   ]
  },
  {
   "cell_type": "code",
   "execution_count": null,
   "id": "dad8fe88",
   "metadata": {},
   "outputs": [],
   "source": [
    "run_kafka_threads()"
   ]
  },
  {
   "cell_type": "markdown",
   "id": "69999562",
   "metadata": {},
   "source": [
    "## Processing Cluster"
   ]
  },
  {
   "cell_type": "code",
   "execution_count": null,
   "id": "808497ef",
   "metadata": {},
   "outputs": [],
   "source": [
    "# How long will the processing cluster wait between runs in seconds.\n",
    "interval_time = 62 "
   ]
  },
  {
   "cell_type": "code",
   "execution_count": null,
   "id": "b1ae30f5",
   "metadata": {},
   "outputs": [],
   "source": [
    "while True:\n",
    "    try:\n",
    "        main(spark, sc, sqlContext)\n",
    "        time.sleep(interval_time)\n",
    "    except KeyboardInterrupt:\n",
    "        print(\"Processing Cluster Stopped By User.\")\n",
    "        break"
   ]
  },
  {
   "cell_type": "markdown",
   "id": "7c3a8892",
   "metadata": {},
   "source": [
    "# Notification Service"
   ]
  },
  {
   "cell_type": "markdown",
   "id": "01f8eca8",
   "metadata": {},
   "source": [
    "# Stop Ingestion Cluster"
   ]
  },
  {
   "cell_type": "code",
   "execution_count": null,
   "id": "db7c0eba",
   "metadata": {},
   "outputs": [],
   "source": [
    "stop_kafka_threads()"
   ]
  },
  {
   "cell_type": "code",
   "execution_count": null,
   "id": "f2aa882e",
   "metadata": {},
   "outputs": [],
   "source": []
  }
 ],
 "metadata": {
  "kernelspec": {
   "display_name": "Python 3 (ipykernel)",
   "language": "python",
   "name": "python3"
  },
  "language_info": {
   "codemirror_mode": {
    "name": "ipython",
    "version": 3
   },
   "file_extension": ".py",
   "mimetype": "text/x-python",
   "name": "python",
   "nbconvert_exporter": "python",
   "pygments_lexer": "ipython3",
   "version": "3.9.12"
  }
 },
 "nbformat": 4,
 "nbformat_minor": 5
}
