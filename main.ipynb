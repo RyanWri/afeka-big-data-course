{
 "cells": [
  {
   "cell_type": "markdown",
   "id": "fb858a18",
   "metadata": {},
   "source": [
    "# Install Required Libraries"
   ]
  },
  {
   "cell_type": "code",
   "execution_count": null,
   "id": "382ea388",
   "metadata": {
    "scrolled": true
   },
   "outputs": [],
   "source": [
    "!/home/linuxu/anaconda3/bin/pip install -r requirements.txt"
   ]
  },
  {
   "cell_type": "markdown",
   "id": "32ebf008",
   "metadata": {},
   "source": [
    "# Imports"
   ]
  },
  {
   "cell_type": "code",
   "execution_count": 1,
   "id": "e9e14779",
   "metadata": {},
   "outputs": [],
   "source": [
    "from src.ingestion.ingestion_entrypoint import run_kafka_threads\n",
    "from src.notifications.notifications_app import main as amain\n",
    "from src.processing.entrypoint import main\n",
    "\n",
    "import os\n",
    "import time"
   ]
  },
  {
   "cell_type": "markdown",
   "id": "02c44354",
   "metadata": {},
   "source": [
    "# Run Program"
   ]
  },
  {
   "cell_type": "markdown",
   "id": "7c3a8892",
   "metadata": {},
   "source": [
    "## Notification Service"
   ]
  },
  {
   "cell_type": "code",
   "execution_count": 3,
   "id": "f2aa882e",
   "metadata": {},
   "outputs": [
    {
     "name": "stdout",
     "output_type": "stream",
     "text": [
      " * Serving Flask app \"src.notifications.notifications_app\" (lazy loading)\n",
      " * Environment: production\n",
      "\u001b[31m   WARNING: This is a development server. Do not use it in a production deployment.\u001b[0m\n",
      "\u001b[2m   Use a production WSGI server instead.\u001b[0m\n",
      " * Debug mode: off\n"
     ]
    },
    {
     "name": "stderr",
     "output_type": "stream",
     "text": [
      "Exception in thread Thread-10:\n",
      "Traceback (most recent call last):\n",
      "  File \"/home/linuxu/anaconda3/lib/python3.9/threading.py\", line 973, in _bootstrap_inner\n",
      "    self.run()\n",
      "  File \"/home/linuxu/anaconda3/lib/python3.9/threading.py\", line 910, in run\n",
      "    self._target(*self._args, **self._kwargs)\n",
      "  File \"/home/linuxu/ben/afeka-big-data-course/src/notifications/notifications_app.py\", line 81, in run_app\n",
      "    app.run(debug=false, use_reloader=false, port=9000)\n",
      "  File \"/home/linuxu/anaconda3/lib/python3.9/site-packages/flask/app.py\", line 990, in run\n",
      "    run_simple(host, port, self, **options)\n",
      "  File \"/home/linuxu/anaconda3/lib/python3.9/site-packages/werkzeug/serving.py\", line 1017, in run_simple\n",
      "    inner()\n",
      "  File \"/home/linuxu/anaconda3/lib/python3.9/site-packages/werkzeug/serving.py\", line 957, in inner\n",
      "    srv = make_server(\n",
      "  File \"/home/linuxu/anaconda3/lib/python3.9/site-packages/werkzeug/serving.py\", line 789, in make_server\n",
      "    return ThreadedWSGIServer(\n",
      "  File \"/home/linuxu/anaconda3/lib/python3.9/site-packages/werkzeug/serving.py\", line 693, in __init__\n",
      "    super().__init__(server_address, handler)  # type: ignore\n",
      "  File \"/home/linuxu/anaconda3/lib/python3.9/socketserver.py\", line 452, in __init__\n",
      "    self.server_bind()\n",
      "  File \"/home/linuxu/anaconda3/lib/python3.9/http/server.py\", line 136, in server_bind\n",
      "    socketserver.TCPServer.server_bind(self)\n",
      "  File \"/home/linuxu/anaconda3/lib/python3.9/socketserver.py\", line 466, in server_bind\n",
      "    self.socket.bind(self.server_address)\n",
      "OSError: [Errno 98] Address already in use\n"
     ]
    }
   ],
   "source": [
    "amain()"
   ]
  },
  {
   "cell_type": "markdown",
   "id": "7cee4cb7",
   "metadata": {},
   "source": [
    "## Ingestion Cluster"
   ]
  },
  {
   "cell_type": "code",
   "execution_count": 4,
   "id": "dad8fe88",
   "metadata": {},
   "outputs": [
    {
     "name": "stdout",
     "output_type": "stream",
     "text": [
      "Valid shape after downscaling: 128x128 → 64x64\n",
      "Saved high-resolution image: HR/image_0.jpg\n",
      "Saved low-resolution image: LR/image_0.jpg\n",
      "Image shape is valid: 128x128\n",
      "Image sent to image-topic [0] at offset 6\n",
      "Valid shape after downscaling: 128x128 → 64x64\n",
      "Saved high-resolution image: HR/image_1.jpg\n",
      "Saved low-resolution image: LR/image_1.jpg\n"
     ]
    }
   ],
   "source": [
    "run_kafka_threads()"
   ]
  },
  {
   "cell_type": "markdown",
   "id": "69999562",
   "metadata": {},
   "source": [
    "## Processing Cluster"
   ]
  },
  {
   "cell_type": "code",
   "execution_count": 5,
   "id": "808497ef",
   "metadata": {},
   "outputs": [],
   "source": [
    "# How long will the processing cluster wait between runs in seconds.\n",
    "interval_time = 62 "
   ]
  },
  {
   "cell_type": "code",
   "execution_count": 6,
   "id": "b1ae30f5",
   "metadata": {},
   "outputs": [
    {
     "name": "stderr",
     "output_type": "stream",
     "text": [
      "127.0.0.1 - - [22/Feb/2025 11:32:22] \"GET / HTTP/1.1\" 200 -         (0 + 4) / 4]\n",
      "127.0.0.1 - - [22/Feb/2025 11:32:22] \"GET /latest_results HTTP/1.1\" 404 -\n",
      "/home/linuxu/anaconda3/lib/python3.9/site-packages/torch/_utils.py:776: UserWarning: TypedStorage is deprecated. It will be removed in the future and UntypedStorage will be the only storage class. This should only matter to you if you are using storages directly.  To access UntypedStorage directly, use tensor.untyped_storage() instead of tensor.storage()\n",
      "  return self.fget.__get__(instance, owner)()\n"
     ]
    },
    {
     "name": "stdout",
     "output_type": "stream",
     "text": [
      "Patches saved to /home/linuxu/ben/afeka-big-data-course/LR-Patches\n"
     ]
    },
    {
     "name": "stderr",
     "output_type": "stream",
     "text": [
      "                                                                                \r"
     ]
    },
    {
     "name": "stdout",
     "output_type": "stream",
     "text": [
      "Inference results saved at /home/linuxu/ben/afeka-big-data-course/SR-Patches\n",
      "Image image_0.jpg reconstructed at /home/linuxu/ben/afeka-big-data-course/SR/image_0.jpg\n",
      "Image image_1.jpg reconstructed at /home/linuxu/ben/afeka-big-data-course/SR/image_1.jpg\n",
      "All steps completed successfully.\n",
      "Image shape is valid: 128x128\n",
      "Image sent to image-topic [0] at offset 7\n",
      "Valid shape after downscaling: 128x128 → 64x64\n",
      "Saved high-resolution image: HR/image_2.jpg\n",
      "Saved low-resolution image: LR/image_2.jpg\n",
      "Image shape is valid: 128x128\n",
      "Image sent to image-topic [0] at offset 8\n",
      "Valid shape after downscaling: 128x128 → 64x64\n",
      "Saved high-resolution image: HR/image_3.jpg\n",
      "Saved low-resolution image: LR/image_3.jpg\n",
      "Patches saved to /home/linuxu/ben/afeka-big-data-course/LR-Patches\n",
      "Inference results saved at /home/linuxu/ben/afeka-big-data-course/SR-Patches\n",
      "Image image_3.jpg reconstructed at /home/linuxu/ben/afeka-big-data-course/SR/image_3.jpg\n",
      "Image image_0.jpg reconstructed at /home/linuxu/ben/afeka-big-data-course/SR/image_0.jpg\n",
      "Image image_2.jpg reconstructed at /home/linuxu/ben/afeka-big-data-course/SR/image_2.jpg\n",
      "Image image_1.jpg reconstructed at /home/linuxu/ben/afeka-big-data-course/SR/image_1.jpg\n",
      "All steps completed successfully.\n",
      "Image shape is valid: 128x128\n",
      "Image sent to image-topic [0] at offset 9\n"
     ]
    },
    {
     "name": "stderr",
     "output_type": "stream",
     "text": [
      "127.0.0.1 - - [22/Feb/2025 11:33:53] \"GET /latest_results HTTP/1.1\" 200 -\n"
     ]
    },
    {
     "name": "stdout",
     "output_type": "stream",
     "text": [
      "Valid shape after downscaling: 128x128 → 64x64\n",
      "Saved high-resolution image: HR/image_4.jpg\n",
      "Saved low-resolution image: LR/image_4.jpg\n",
      "Image shape is valid: 128x128\n",
      "Image sent to image-topic [0] at offset 10\n",
      "Valid shape after downscaling: 128x128 → 64x64\n",
      "Saved high-resolution image: HR/image_5.jpg\n",
      "Saved low-resolution image: LR/image_5.jpg\n",
      "Patches saved to /home/linuxu/ben/afeka-big-data-course/LR-Patches\n",
      "Inference results saved at /home/linuxu/ben/afeka-big-data-course/SR-Patches\n",
      "Image image_3.jpg reconstructed at /home/linuxu/ben/afeka-big-data-course/SR/image_3.jpg\n",
      "Image image_4.jpg reconstructed at /home/linuxu/ben/afeka-big-data-course/SR/image_4.jpg\n",
      "Image image_2.jpg reconstructed at /home/linuxu/ben/afeka-big-data-course/SR/image_2.jpg\n",
      "Image image_0.jpg reconstructed at /home/linuxu/ben/afeka-big-data-course/SR/image_0.jpg\n",
      "Image image_5.jpg reconstructed at /home/linuxu/ben/afeka-big-data-course/SR/image_5.jpg\n",
      "Image image_1.jpg reconstructed at /home/linuxu/ben/afeka-big-data-course/SR/image_1.jpg\n",
      "All steps completed successfully.\n",
      "Image shape is valid: 128x128\n",
      "Image sent to image-topic [0] at offset 11\n",
      "Valid shape after downscaling: 128x128 → 64x64\n",
      "Saved high-resolution image: HR/image_6.jpg\n",
      "Saved low-resolution image: LR/image_6.jpg\n",
      "Image shape is valid: 128x128\n",
      "Image sent to image-topic [0] at offset 12\n",
      "Valid shape after downscaling: 128x128 → 64x64\n",
      "Saved high-resolution image: HR/image_7.jpg\n",
      "Saved low-resolution image: LR/image_7.jpg\n"
     ]
    },
    {
     "name": "stderr",
     "output_type": "stream",
     "text": [
      "127.0.0.1 - - [22/Feb/2025 11:35:23] \"GET /latest_results HTTP/1.1\" 200 -\n",
      "127.0.0.1 - - [22/Feb/2025 11:35:23] \"GET /HR/image_5.jpg HTTP/1.1\" 200 -\n",
      "127.0.0.1 - - [22/Feb/2025 11:35:23] \"GET /SR/image_5.jpg HTTP/1.1\" 200 -\n"
     ]
    },
    {
     "name": "stdout",
     "output_type": "stream",
     "text": [
      "Patches saved to /home/linuxu/ben/afeka-big-data-course/LR-Patches\n"
     ]
    },
    {
     "name": "stderr",
     "output_type": "stream",
     "text": [
      "\r",
      "[Stage 23:==============>                                           (1 + 3) / 4]\r",
      "\r",
      "                                                                                \r"
     ]
    },
    {
     "name": "stdout",
     "output_type": "stream",
     "text": [
      "Inference results saved at /home/linuxu/ben/afeka-big-data-course/SR-Patches\n",
      "Image shape is valid: 128x128\n",
      "Image sent to image-topic [0] at offset 13\n",
      "Image image_3.jpg reconstructed at /home/linuxu/ben/afeka-big-data-course/SR/image_3.jpg\n",
      "Image image_7.jpg reconstructed at /home/linuxu/ben/afeka-big-data-course/SR/image_7.jpg\n",
      "Image image_6.jpg reconstructed at /home/linuxu/ben/afeka-big-data-course/SR/image_6.jpg\n",
      "Image image_0.jpg reconstructed at /home/linuxu/ben/afeka-big-data-course/SR/image_0.jpg\n",
      "Image image_2.jpg reconstructed at /home/linuxu/ben/afeka-big-data-course/SR/image_2.jpg\n",
      "Image image_5.jpg reconstructed at /home/linuxu/ben/afeka-big-data-course/SR/image_5.jpg\n",
      "Image image_4.jpg reconstructed at /home/linuxu/ben/afeka-big-data-course/SR/image_4.jpg\n",
      "Image image_1.jpg reconstructed at /home/linuxu/ben/afeka-big-data-course/SR/image_1.jpg\n",
      "All steps completed successfully.\n",
      "Processing Cluster Stopped By User.\n"
     ]
    }
   ],
   "source": [
    "while True:\n",
    "    try:\n",
    "        main(spark, sc, sqlContext)\n",
    "        time.sleep(interval_time)\n",
    "    except KeyboardInterrupt:\n",
    "        print(\"Processing Cluster Stopped By User.\")\n",
    "        break\n",
    "    except ValueError as err:\n",
    "        print(str(err))"
   ]
  },
  {
   "cell_type": "code",
   "execution_count": null,
   "id": "523af8a9",
   "metadata": {},
   "outputs": [],
   "source": []
  }
 ],
 "metadata": {
  "kernelspec": {
   "display_name": "Python 3 (ipykernel)",
   "language": "python",
   "name": "python3"
  },
  "language_info": {
   "codemirror_mode": {
    "name": "ipython",
    "version": 3
   },
   "file_extension": ".py",
   "mimetype": "text/x-python",
   "name": "python",
   "nbconvert_exporter": "python",
   "pygments_lexer": "ipython3",
   "version": "3.9.12"
  }
 },
 "nbformat": 4,
 "nbformat_minor": 5
}
