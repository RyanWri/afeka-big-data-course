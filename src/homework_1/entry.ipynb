{
 "cells": [
  {
   "cell_type": "code",
   "execution_count": 1,
   "metadata": {},
   "outputs": [],
   "source": [
    "import os\n",
    "\n",
    "os.environ[\"JAVA_HOME\"] = \"/home/linuxbrew/.linuxbrew/opt/openjdk@11\""
   ]
  },
  {
   "cell_type": "code",
   "execution_count": 2,
   "metadata": {},
   "outputs": [
    {
     "name": "stderr",
     "output_type": "stream",
     "text": [
      "Setting default log level to \"WARN\".\n",
      "To adjust logging level use sc.setLogLevel(newLevel). For SparkR, use setLogLevel(newLevel).\n",
      "24/11/14 17:23:00 WARN NativeCodeLoader: Unable to load native-hadoop library for your platform... using builtin-java classes where applicable\n"
     ]
    }
   ],
   "source": [
    "from pyspark.sql import SparkSession\n",
    "\n",
    "spark = SparkSession.builder.appName(\"BasicSparkLab\").getOrCreate()\n",
    "\n",
    "# Check the SparkContext\n",
    "sc = spark.sparkContext"
   ]
  },
  {
   "cell_type": "code",
   "execution_count": 3,
   "metadata": {},
   "outputs": [
    {
     "data": {
      "text/html": [
       "\n",
       "        <div>\n",
       "            <p><b>SparkContext</b></p>\n",
       "\n",
       "            <p><a href=\"http://172.20.27.206:4040\">Spark UI</a></p>\n",
       "\n",
       "            <dl>\n",
       "              <dt>Version</dt>\n",
       "                <dd><code>v3.5.3</code></dd>\n",
       "              <dt>Master</dt>\n",
       "                <dd><code>local[*]</code></dd>\n",
       "              <dt>AppName</dt>\n",
       "                <dd><code>BasicSparkLab</code></dd>\n",
       "            </dl>\n",
       "        </div>\n",
       "        "
      ],
      "text/plain": [
       "<SparkContext master=local[*] appName=BasicSparkLab>"
      ]
     },
     "execution_count": 3,
     "metadata": {},
     "output_type": "execute_result"
    }
   ],
   "source": [
    "sc"
   ]
  },
  {
   "cell_type": "code",
   "execution_count": 4,
   "metadata": {},
   "outputs": [],
   "source": [
    "data = [21, 27, 43, 40, 75, 61, 70, 8, 9, 100, 11]\n",
    "firstRDD = sc.parallelize(data)"
   ]
  },
  {
   "cell_type": "code",
   "execution_count": 5,
   "metadata": {},
   "outputs": [
    {
     "name": "stdout",
     "output_type": "stream",
     "text": [
      "First element of data: 21\n"
     ]
    },
    {
     "name": "stderr",
     "output_type": "stream",
     "text": [
      "[Stage 0:>                                                          (0 + 1) / 1]\r"
     ]
    },
    {
     "name": "stdout",
     "output_type": "stream",
     "text": [
      "First element of firstRDD: 21\n"
     ]
    },
    {
     "name": "stderr",
     "output_type": "stream",
     "text": [
      "                                                                                \r"
     ]
    }
   ],
   "source": [
    "print(\"First element of data:\", data[0])\n",
    "print(\"First element of firstRDD:\", firstRDD.first())"
   ]
  },
  {
   "cell_type": "code",
   "execution_count": 6,
   "metadata": {},
   "outputs": [
    {
     "name": "stdout",
     "output_type": "stream",
     "text": [
      "Take 5 elements from firstRDD: [21, 27, 43, 40, 75]\n",
      "First element using first(): 21\n"
     ]
    }
   ],
   "source": [
    "print(\"Take 5 elements from firstRDD:\", firstRDD.take(5))\n",
    "print(\"First element using first():\", firstRDD.first())"
   ]
  },
  {
   "cell_type": "code",
   "execution_count": 7,
   "metadata": {},
   "outputs": [
    {
     "name": "stdout",
     "output_type": "stream",
     "text": [
      "Elements of secondRDD: [144, 150, 166, 163, 198, 184, 193, 131, 132, 223, 134]\n"
     ]
    }
   ],
   "source": [
    "secondRDD = firstRDD.map(lambda x: x + 123)\n",
    "print(\"Elements of secondRDD:\", secondRDD.collect())"
   ]
  },
  {
   "cell_type": "code",
   "execution_count": 8,
   "metadata": {},
   "outputs": [
    {
     "name": "stdout",
     "output_type": "stream",
     "text": [
      "Max element of firstRDD: 100\n",
      "Min element of secondRDD: 131\n"
     ]
    }
   ],
   "source": [
    "max_firstRDD = firstRDD.max()\n",
    "min_secondRDD = secondRDD.min()\n",
    "print(\"Max element of firstRDD:\", max_firstRDD)\n",
    "print(\"Min element of secondRDD:\", min_secondRDD)"
   ]
  },
  {
   "cell_type": "code",
   "execution_count": 9,
   "metadata": {},
   "outputs": [
    {
     "name": "stdout",
     "output_type": "stream",
     "text": [
      "Elements of thirdRDD: [166, 163, 198, 184, 193, 223]\n"
     ]
    }
   ],
   "source": [
    "thirdRDD = secondRDD.filter(lambda x: x > 150)\n",
    "print(\"Elements of thirdRDD:\", thirdRDD.collect())"
   ]
  },
  {
   "cell_type": "code",
   "execution_count": 10,
   "metadata": {},
   "outputs": [
    {
     "name": "stdout",
     "output_type": "stream",
     "text": [
      "Contents of data.txt: ['a sample of text', 'maybe number 5 or 15']\n"
     ]
    }
   ],
   "source": [
    "data_path = os.path.join(os.getcwd(), \"src\", \"homework_1\", \"data.txt\")\n",
    "text_rdd = sc.textFile(data_path)\n",
    "print(\"Contents of data.txt:\", text_rdd.collect())"
   ]
  },
  {
   "cell_type": "markdown",
   "metadata": {},
   "source": [
    "## Romeo & Juliet"
   ]
  },
  {
   "cell_type": "code",
   "execution_count": 11,
   "metadata": {},
   "outputs": [],
   "source": [
    "data_path = os.path.join(os.getcwd(), \"src\", \"homework_1\", \"romeo-juliet.txt\")\n",
    "romeo_juliet_rdd = sc.textFile(data_path)"
   ]
  },
  {
   "cell_type": "code",
   "execution_count": 12,
   "metadata": {},
   "outputs": [
    {
     "name": "stdout",
     "output_type": "stream",
     "text": [
      "Number of lines: 4853\n",
      "Number of words: 28983\n"
     ]
    }
   ],
   "source": [
    "line_count = romeo_juliet_rdd.count()\n",
    "word_count = romeo_juliet_rdd.flatMap(lambda line: line.split()).count()\n",
    "print(\"Number of lines:\", line_count)\n",
    "print(\"Number of words:\", word_count)"
   ]
  },
  {
   "cell_type": "code",
   "execution_count": 13,
   "metadata": {},
   "outputs": [
    {
     "name": "stdout",
     "output_type": "stream",
     "text": [
      "Longest phrase: End of the Project Gutenberg EBook of Romeo and Juliet, by William Shakespeare\n"
     ]
    }
   ],
   "source": [
    "longest_phrase = romeo_juliet_rdd.reduce(lambda a, b: a if len(a) > len(b) else b)\n",
    "print(\"Longest phrase:\", longest_phrase)"
   ]
  },
  {
   "cell_type": "code",
   "execution_count": 14,
   "metadata": {},
   "outputs": [
    {
     "name": "stdout",
     "output_type": "stream",
     "text": [
      "Top 10 most frequent words: [('the', 762), ('I', 549), ('and', 539), ('to', 522), ('of', 485), ('a', 453), ('in', 330), ('is', 322), ('my', 310), ('with', 274)]\n"
     ]
    }
   ],
   "source": [
    "word_counts = (\n",
    "    romeo_juliet_rdd.flatMap(lambda line: line.split())\n",
    "    .map(lambda word: (word, 1))\n",
    "    .reduceByKey(lambda a, b: a + b)\n",
    "    .sortBy(lambda x: x[1], ascending=False)\n",
    ")\n",
    "top_10_words = word_counts.take(10)\n",
    "print(\"Top 10 most frequent words:\", top_10_words)"
   ]
  },
  {
   "cell_type": "code",
   "execution_count": 15,
   "metadata": {},
   "outputs": [
    {
     "name": "stdout",
     "output_type": "stream",
     "text": [
      "Romeo speaks: 163 times\n",
      "Juliet speaks: 117 times\n"
     ]
    }
   ],
   "source": [
    "romeo_count = romeo_juliet_rdd.filter(lambda line: \"Rom.\" in line).count()\n",
    "juliet_count = romeo_juliet_rdd.filter(lambda line: \"Jul.\" in line).count()\n",
    "print(\"Romeo speaks:\", romeo_count, \"times\")\n",
    "print(\"Juliet speaks:\", juliet_count, \"times\")"
   ]
  },
  {
   "cell_type": "markdown",
   "metadata": {},
   "source": [
    "## Integral Approximation"
   ]
  },
  {
   "cell_type": "code",
   "execution_count": 17,
   "metadata": {},
   "outputs": [
    {
     "name": "stdout",
     "output_type": "stream",
     "text": [
      "Approximation of the integral: 303.50016683350015\n"
     ]
    }
   ],
   "source": [
    "import numpy as np\n",
    "\n",
    "# Parameters\n",
    "a, b = 0, 10\n",
    "n = 1000  # Adjust n for precision\n",
    "delta_x = (b - a) / n\n",
    "\n",
    "\n",
    "# Define function\n",
    "def f(x):\n",
    "    return x**2 - 3\n",
    "\n",
    "\n",
    "# Create RDD with equally spaced x values\n",
    "x_values = sc.parallelize(np.linspace(a, b, n))\n",
    "\n",
    "# Calculate integral approximation\n",
    "integral_approximation = x_values.map(lambda x: f(x) * delta_x).sum()\n",
    "print(\"Approximation of the integral:\", integral_approximation)"
   ]
  },
  {
   "cell_type": "code",
   "execution_count": null,
   "metadata": {},
   "outputs": [],
   "source": []
  },
  {
   "cell_type": "code",
   "execution_count": null,
   "metadata": {},
   "outputs": [],
   "source": []
  },
  {
   "cell_type": "code",
   "execution_count": null,
   "metadata": {},
   "outputs": [],
   "source": []
  },
  {
   "cell_type": "code",
   "execution_count": null,
   "metadata": {},
   "outputs": [],
   "source": []
  },
  {
   "cell_type": "code",
   "execution_count": null,
   "metadata": {},
   "outputs": [],
   "source": []
  }
 ],
 "metadata": {
  "kernelspec": {
   "display_name": "venv",
   "language": "python",
   "name": "python3"
  },
  "language_info": {
   "codemirror_mode": {
    "name": "ipython",
    "version": 3
   },
   "file_extension": ".py",
   "mimetype": "text/x-python",
   "name": "python",
   "nbconvert_exporter": "python",
   "pygments_lexer": "ipython3",
   "version": "3.13.0"
  }
 },
 "nbformat": 4,
 "nbformat_minor": 2
}
